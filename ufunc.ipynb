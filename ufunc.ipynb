{
 "cells": [
  {
   "cell_type": "code",
   "execution_count": 1,
   "metadata": {},
   "outputs": [],
   "source": [
    "import numpy as np"
   ]
  },
  {
   "cell_type": "markdown",
   "metadata": {},
   "source": [
    "SIMPLE ARITHMETICS"
   ]
  },
  {
   "cell_type": "code",
   "execution_count": 21,
   "metadata": {},
   "outputs": [
    {
     "name": "stdout",
     "output_type": "stream",
     "text": [
      "[ 1  5 10  2 10]\n"
     ]
    }
   ],
   "source": [
    "arr1 = np.array([3,6,3,4,6,2,2])\n",
    "arr2 = np.array([6,2,3,8,6,4,2])\n",
    "arr3 = np.array([1,-5,-10,2,-10])\n",
    "# პირველ მასივს დამატებული მეორე მასივი\n",
    "addTwoArrays = np.add(arr1,arr2)\n",
    "\n",
    "# პირველ მასივს გამოკლებული მეორე მასივი\n",
    "substructTwoArrays = np.subtract(arr1,arr2)\n",
    "\n",
    "# პირველი მასივი გამრავლებული მეორე მასივზე\n",
    "multiplyTwoArrays = np.multiply(arr1,arr2)\n",
    "\n",
    "# პირველი მასივი გაყოფილი მეორე მასივზე\n",
    "divideTwoArrays = np.divide(arr1,arr2)\n",
    "\n",
    "# პირველი მასივის რიცხვები ავახარისხოთ მეორე მასივის რიცხვევზე\n",
    "powerTwoArrays = np.power(arr1,arr2)\n",
    "\n",
    "# პოულობს ნაშთებს პირველი მასივის მეორე მასივზე გაყოფისას\n",
    "modOfTwoArrays = np.mod(arr1,arr2)\n",
    "\n",
    "# აბრუნებს ორ მასივს გაყოფილის დამრგვალებულ ციფრებს და ნაშთებს\n",
    "divmodOfTwoArrays = np.divmod(arr1,arr2)\n",
    "\n",
    "# აბრუნებს იგივე მასივს მოდულში\n",
    "absoluteNumbersOfArray = np.absolute(arr3)"
   ]
  },
  {
   "cell_type": "markdown",
   "metadata": {},
   "source": [
    "ROUNDING DECIMALS"
   ]
  },
  {
   "cell_type": "code",
   "execution_count": 28,
   "metadata": {},
   "outputs": [],
   "source": [
    "# ამრგვალებს 0-თან ახლო ციფრზე, fix და trunc ერთნაირად მუშაობს\n",
    "arr = np.trunc([-3.1666, 3.6667])\n",
    "arr = np.fix([-3.1666, 3.6667])"
   ]
  },
  {
   "cell_type": "code",
   "execution_count": 33,
   "metadata": {},
   "outputs": [
    {
     "name": "stdout",
     "output_type": "stream",
     "text": [
      "[-3.  4.]\n"
     ]
    }
   ],
   "source": [
    "# განსაზღვრავს თუ რამდენი ციფრი უნდა იყოს წერტილის შემდეგ და ამრგვალებს შესაბამისად\n",
    "num = np.around(3.1666, 2)\n",
    "# ამრგვალებს მასივის ელემენტებს უმცირესამდე\n",
    "arr = np.floor([-3.1666,3.6667])\n",
    "# ამრგვალებს მასივის ელემენტებს უდიდესამდე\n",
    "arr = np.ceil([-3.1666,3.6667])"
   ]
  },
  {
   "cell_type": "markdown",
   "metadata": {},
   "source": [
    "SUMMATIONS"
   ]
  },
  {
   "cell_type": "code",
   "execution_count": 43,
   "metadata": {},
   "outputs": [
    {
     "name": "stdout",
     "output_type": "stream",
     "text": [
      "[1 3 6]\n"
     ]
    }
   ],
   "source": [
    "arr1 = np.array([1,2,3])\n",
    "arr2 = np.array([1,2,3])\n",
    "arr3 = np.array([1,2,3])\n",
    "# აკეთებს სამი მასივის ელემენტების შეჩამებას \n",
    "sumOfEachElems = np.sum([arr1,arr2,arr3])\n",
    "# აკეთებს თითოეულ მასივის ელემენტების შეჯამებას მათივე მასივში\n",
    "sumOfEachArrElems = np.sum([arr1,arr2,arr3],axis=1)\n",
    "# ამატებს მასივის ელემენტებს ერთმანეთის მიყოლებით\n",
    "cumSum = np.cumsum(arr1)\n"
   ]
  },
  {
   "cell_type": "markdown",
   "metadata": {},
   "source": [
    "PRODUCTS"
   ]
  },
  {
   "cell_type": "code",
   "execution_count": 47,
   "metadata": {},
   "outputs": [
    {
     "name": "stdout",
     "output_type": "stream",
     "text": [
      "[ 1  2  6 24]\n"
     ]
    }
   ],
   "source": [
    "arr1 = np.array([1,2,3,4])\n",
    "arr2 = np.array([5,6,7,8])\n",
    "\n",
    "# ამრავლებს თითოეულ ელემენტს ერთმანეთზე\n",
    "onlyOneArr = np.prod(arr1)\n",
    "\n",
    "# ამრავლებს ორი მასივის თითოეულ ელემენტებს ერთმანეთზე\n",
    "twoArrays = np.prod([arr1,arr2])\n",
    "\n",
    "# ამრავლებს თითეული მასივის ელემენტებს და აბრუნებს თითოეული მასივის შედეგს\n",
    "eachArrays = np.prod([arr1,arr2],axis=1)\n",
    "\n",
    "# ამრავლებს ელემენტებს ერთმანეთზე მიყოლებით\n",
    "cumProd = np.cumprod(arr1)"
   ]
  },
  {
   "cell_type": "markdown",
   "metadata": {},
   "source": [
    "DIFFERENCES"
   ]
  },
  {
   "cell_type": "code",
   "execution_count": 49,
   "metadata": {},
   "outputs": [
    {
     "name": "stdout",
     "output_type": "stream",
     "text": [
      "[  5 -30]\n"
     ]
    }
   ],
   "source": [
    "arr= np.array([10,15,25,5])\n",
    "# პოულობს რიცხვს თუ რამდენით იზრდება\n",
    "newArr=np.diff(arr)\n",
    "\n",
    "# ERROR IN MY BRAIN TOO, LOOK AGAIN LATER\n",
    "newArr2 = np.diff(arr,n=2)"
   ]
  },
  {
   "cell_type": "markdown",
   "metadata": {},
   "source": [
    "FINDING LCM"
   ]
  },
  {
   "cell_type": "code",
   "execution_count": 54,
   "metadata": {},
   "outputs": [
    {
     "name": "stdout",
     "output_type": "stream",
     "text": [
      "2520\n"
     ]
    }
   ],
   "source": [
    "num1 = 4\n",
    "num2 = 6\n",
    "arr = np.array([3,6,9])\n",
    "arr2 = np.arange(1,11)\n",
    "# პოულობს უმცირეს საერთო ჯერადს, ამ შემთხვევაში დააბრუნებს 12-ს რადგან 12 არის უმცირესი რიცხვი რაც 6-ზეც იყოფა და 4-ზეც.\n",
    "lcm = np.lcm(num1,num2)\n",
    "# პოულობს უმცირეს საერთო ჯერადს მასივის ელემენტებს შორის.\n",
    "lcmOfArrayNums = np.lcm.reduce(arr)\n",
    "# პოულობს უმცირეს საერთო ჯერადს მასივის ელემენტებს შორის.\n",
    "lcmOfArangeArrayNums = np.lcm.reduce(arr2)"
   ]
  },
  {
   "cell_type": "markdown",
   "metadata": {},
   "source": [
    "FINDING GCD"
   ]
  },
  {
   "cell_type": "code",
   "execution_count": 58,
   "metadata": {},
   "outputs": [
    {
     "name": "stdout",
     "output_type": "stream",
     "text": [
      "5\n"
     ]
    }
   ],
   "source": [
    "num1 = 6\n",
    "num2 = 9\n",
    "arr = np.array([15,10,20])\n",
    "# პოულობს უდიდესს საერთო გამყოფს.\n",
    "gcd = np.gcd(num1,num2)\n",
    "\n",
    "# პოულობს უდიდესს საერთო გამყოფს მასივის ელემენტებს შორის.\n",
    "gcdOfArrayNums = np.gcd.reduce(arr)"
   ]
  }
 ],
 "metadata": {
  "kernelspec": {
   "display_name": "numpy",
   "language": "python",
   "name": "python3"
  },
  "language_info": {
   "codemirror_mode": {
    "name": "ipython",
    "version": 3
   },
   "file_extension": ".py",
   "mimetype": "text/x-python",
   "name": "python",
   "nbconvert_exporter": "python",
   "pygments_lexer": "ipython3",
   "version": "3.12.1"
  }
 },
 "nbformat": 4,
 "nbformat_minor": 2
}
